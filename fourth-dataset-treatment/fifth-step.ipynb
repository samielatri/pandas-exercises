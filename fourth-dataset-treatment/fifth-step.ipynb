{
 "cells": [
  {
   "cell_type": "markdown",
   "metadata": {},
   "source": []
  },
  {
   "cell_type": "markdown",
   "metadata": {},
   "source": []
  },
  {
   "cell_type": "code",
   "execution_count": 1,
   "metadata": {},
   "outputs": [
    {
     "data": {
      "text/html": [
       "<div>\n",
       "<style scoped>\n",
       "    .dataframe tbody tr th:only-of-type {\n",
       "        vertical-align: middle;\n",
       "    }\n",
       "\n",
       "    .dataframe tbody tr th {\n",
       "        vertical-align: top;\n",
       "    }\n",
       "\n",
       "    .dataframe thead th {\n",
       "        text-align: right;\n",
       "    }\n",
       "</style>\n",
       "<table border=\"1\" class=\"dataframe\">\n",
       "  <thead>\n",
       "    <tr style=\"text-align: right;\">\n",
       "      <th></th>\n",
       "      <th>FILM</th>\n",
       "      <th>RottenTomatoes</th>\n",
       "      <th>RottenTomatoes_User</th>\n",
       "      <th>Metacritic</th>\n",
       "      <th>Metacritic_User</th>\n",
       "      <th>IMDB</th>\n",
       "      <th>Fandango_Stars</th>\n",
       "      <th>Fandango_Ratingvalue</th>\n",
       "      <th>RT_norm</th>\n",
       "      <th>RT_user_norm</th>\n",
       "      <th>...</th>\n",
       "      <th>IMDB_norm</th>\n",
       "      <th>RT_norm_round</th>\n",
       "      <th>RT_user_norm_round</th>\n",
       "      <th>Metacritic_norm_round</th>\n",
       "      <th>Metacritic_user_norm_round</th>\n",
       "      <th>IMDB_norm_round</th>\n",
       "      <th>Metacritic_user_vote_count</th>\n",
       "      <th>IMDB_user_vote_count</th>\n",
       "      <th>Fandango_votes</th>\n",
       "      <th>Fandango_Difference</th>\n",
       "    </tr>\n",
       "  </thead>\n",
       "  <tbody>\n",
       "    <tr>\n",
       "      <th>0</th>\n",
       "      <td>Avengers: Age of Ultron (2015)</td>\n",
       "      <td>74</td>\n",
       "      <td>86</td>\n",
       "      <td>66</td>\n",
       "      <td>7.1</td>\n",
       "      <td>7.8</td>\n",
       "      <td>5.0</td>\n",
       "      <td>4.5</td>\n",
       "      <td>3.70</td>\n",
       "      <td>4.3</td>\n",
       "      <td>...</td>\n",
       "      <td>3.90</td>\n",
       "      <td>3.5</td>\n",
       "      <td>4.5</td>\n",
       "      <td>3.5</td>\n",
       "      <td>3.5</td>\n",
       "      <td>4.0</td>\n",
       "      <td>1330</td>\n",
       "      <td>271107</td>\n",
       "      <td>14846</td>\n",
       "      <td>0.5</td>\n",
       "    </tr>\n",
       "    <tr>\n",
       "      <th>1</th>\n",
       "      <td>Cinderella (2015)</td>\n",
       "      <td>85</td>\n",
       "      <td>80</td>\n",
       "      <td>67</td>\n",
       "      <td>7.5</td>\n",
       "      <td>7.1</td>\n",
       "      <td>5.0</td>\n",
       "      <td>4.5</td>\n",
       "      <td>4.25</td>\n",
       "      <td>4.0</td>\n",
       "      <td>...</td>\n",
       "      <td>3.55</td>\n",
       "      <td>4.5</td>\n",
       "      <td>4.0</td>\n",
       "      <td>3.5</td>\n",
       "      <td>4.0</td>\n",
       "      <td>3.5</td>\n",
       "      <td>249</td>\n",
       "      <td>65709</td>\n",
       "      <td>12640</td>\n",
       "      <td>0.5</td>\n",
       "    </tr>\n",
       "  </tbody>\n",
       "</table>\n",
       "<p>2 rows × 22 columns</p>\n",
       "</div>"
      ],
      "text/plain": [
       "                             FILM  RottenTomatoes  RottenTomatoes_User  \\\n",
       "0  Avengers: Age of Ultron (2015)              74                   86   \n",
       "1               Cinderella (2015)              85                   80   \n",
       "\n",
       "   Metacritic  Metacritic_User  IMDB  Fandango_Stars  Fandango_Ratingvalue  \\\n",
       "0          66              7.1   7.8             5.0                   4.5   \n",
       "1          67              7.5   7.1             5.0                   4.5   \n",
       "\n",
       "   RT_norm  RT_user_norm         ...           IMDB_norm  RT_norm_round  \\\n",
       "0     3.70           4.3         ...                3.90            3.5   \n",
       "1     4.25           4.0         ...                3.55            4.5   \n",
       "\n",
       "   RT_user_norm_round  Metacritic_norm_round  Metacritic_user_norm_round  \\\n",
       "0                 4.5                    3.5                         3.5   \n",
       "1                 4.0                    3.5                         4.0   \n",
       "\n",
       "   IMDB_norm_round  Metacritic_user_vote_count  IMDB_user_vote_count  \\\n",
       "0              4.0                        1330                271107   \n",
       "1              3.5                         249                 65709   \n",
       "\n",
       "   Fandango_votes  Fandango_Difference  \n",
       "0           14846                  0.5  \n",
       "1           12640                  0.5  \n",
       "\n",
       "[2 rows x 22 columns]"
      ]
     },
     "execution_count": 1,
     "metadata": {},
     "output_type": "execute_result"
    }
   ],
   "source": [
    "import pandas as pd\n",
    "\n",
    "fandango = pd.read_csv('fandango_score_comparison.csv')\n",
    "fandango.head(2)"
   ]
  },
  {
   "cell_type": "markdown",
   "metadata": {},
   "source": []
  },
  {
   "cell_type": "markdown",
   "metadata": {},
   "source": []
  },
  {
   "cell_type": "code",
   "execution_count": 2,
   "metadata": {},
   "outputs": [
    {
     "name": "stdout",
     "output_type": "stream",
     "text": [
      "0    Avengers: Age of Ultron (2015)\n",
      "1                 Cinderella (2015)\n",
      "2                    Ant-Man (2015)\n",
      "3            Do You Believe? (2015)\n",
      "4     Hot Tub Time Machine 2 (2015)\n",
      "Name: FILM, dtype: object\n"
     ]
    }
   ],
   "source": [
    "series_film = fandango['FILM']\n",
    "print(series_film[0:5])"
   ]
  },
  {
   "cell_type": "code",
   "execution_count": 3,
   "metadata": {},
   "outputs": [
    {
     "name": "stdout",
     "output_type": "stream",
     "text": [
      "0    74\n",
      "1    85\n",
      "2    80\n",
      "3    18\n",
      "4    14\n",
      "Name: RottenTomatoes, dtype: int64\n"
     ]
    }
   ],
   "source": [
    "series_rt = fandango['RottenTomatoes']\n",
    "print(series_rt[0:5])"
   ]
  },
  {
   "cell_type": "markdown",
   "metadata": {},
   "source": []
  },
  {
   "cell_type": "markdown",
   "metadata": {},
   "source": []
  },
  {
   "cell_type": "code",
   "execution_count": 4,
   "metadata": {
    "collapsed": true
   },
   "outputs": [],
   "source": [
    "# importer l'objet Series depuis pandas\n",
    "from pandas import Series"
   ]
  },
  {
   "cell_type": "code",
   "execution_count": 6,
   "metadata": {},
   "outputs": [],
   "source": [
    "film_names = series_film.values\n",
    "rt_scores = series_rt.values\n",
    "\n",
    "series_custom = Series(rt_scores, index=film_names)"
   ]
  },
  {
   "cell_type": "code",
   "execution_count": 7,
   "metadata": {},
   "outputs": [
    {
     "name": "stderr",
     "output_type": "stream",
     "text": [
      "/Users/rod/anaconda/lib/python3.6/site-packages/pandas/core/series.py:705: FutureWarning: \n",
      "Passing list-likes to .loc or [] with any missing label will raise\n",
      "KeyError in the future, you can use .reindex() as an alternative.\n",
      "\n",
      "See the documentation here:\n",
      "http://pandas.pydata.org/pandas-docs/stable/indexing.html#deprecate-loc-reindex-listlike\n",
      "  return self.loc[key]\n"
     ]
    },
    {
     "data": {
      "text/plain": [
       "Minions (2015)     54.0\n",
       "Leviatan (2014)     NaN\n",
       "dtype: float64"
      ]
     },
     "execution_count": 7,
     "metadata": {},
     "output_type": "execute_result"
    }
   ],
   "source": [
    "series_custom[['Minions (2015)', 'Leviatan (2014)']]"
   ]
  },
  {
   "cell_type": "code",
   "execution_count": 8,
   "metadata": {},
   "outputs": [
    {
     "data": {
      "text/plain": [
       "The Water Diviner (2015)             63\n",
       "Irrational Man (2015)                42\n",
       "Top Five (2014)                      86\n",
       "Shaun the Sheep Movie (2015)         99\n",
       "Love & Mercy (2015)                  89\n",
       "Far From The Madding Crowd (2015)    84\n",
       "dtype: int64"
      ]
     },
     "execution_count": 8,
     "metadata": {},
     "output_type": "execute_result"
    }
   ],
   "source": [
    "series_custom[5:11]"
   ]
  },
  {
   "cell_type": "markdown",
   "metadata": {},
   "source": []
  },
  {
   "cell_type": "markdown",
   "metadata": {},
   "source": []
  },
  {
   "cell_type": "code",
   "execution_count": 9,
   "metadata": {
    "collapsed": true
   },
   "outputs": [],
   "source": [
    "original_index = series_custom.index\n",
    "sorted_index = sorted(original_index)\n",
    "sorted_by_index = series_custom.reindex(sorted_index)"
   ]
  },
  {
   "cell_type": "code",
   "execution_count": 10,
   "metadata": {},
   "outputs": [
    {
     "name": "stdout",
     "output_type": "stream",
     "text": [
      "'71 (2015)                                         97\n",
      "5 Flights Up (2015)                                52\n",
      "A Little Chaos (2015)                              40\n",
      "A Most Violent Year (2014)                         90\n",
      "About Elly (2015)                                  97\n",
      "Aloha (2015)                                       19\n",
      "American Sniper (2015)                             72\n",
      "American Ultra (2015)                              46\n",
      "Amy (2015)                                         97\n",
      "Annie (2014)                                       27\n",
      "Ant-Man (2015)                                     80\n",
      "Avengers: Age of Ultron (2015)                     74\n",
      "Big Eyes (2014)                                    72\n",
      "Birdman (2014)                                     92\n",
      "Black Sea (2015)                                   82\n",
      "Black or White (2015)                              39\n",
      "Blackhat (2015)                                    34\n",
      "Cake (2015)                                        49\n",
      "Chappie (2015)                                     30\n",
      "Child 44 (2015)                                    26\n",
      "Cinderella (2015)                                  85\n",
      "Clouds of Sils Maria (2015)                        89\n",
      "Danny Collins (2015)                               77\n",
      "Dark Places (2015)                                 26\n",
      "Do You Believe? (2015)                             18\n",
      "Dope (2015)                                        87\n",
      "Entourage (2015)                                   32\n",
      "Escobar: Paradise Lost (2015)                      52\n",
      "Ex Machina (2015)                                  92\n",
      "Fantastic Four (2015)                               9\n",
      "                                                   ..\n",
      "The Loft (2015)                                    11\n",
      "The Longest Ride (2015)                            31\n",
      "The Man From U.N.C.L.E. (2015)                     68\n",
      "The Overnight (2015)                               82\n",
      "The Salt of the Earth (2015)                       96\n",
      "The Second Best Exotic Marigold Hotel (2015)       62\n",
      "The SpongeBob Movie: Sponge Out of Water (2015)    78\n",
      "The Stanford Prison Experiment (2015)              84\n",
      "The Vatican Tapes (2015)                           13\n",
      "The Water Diviner (2015)                           63\n",
      "The Wedding Ringer (2015)                          27\n",
      "The Wolfpack (2015)                                84\n",
      "The Woman In Black 2 Angel of Death (2015)         22\n",
      "The Wrecking Crew (2015)                           93\n",
      "Timbuktu (2015)                                    99\n",
      "Tomorrowland (2015)                                50\n",
      "Top Five (2014)                                    86\n",
      "Trainwreck (2015)                                  85\n",
      "True Story (2015)                                  45\n",
      "Two Days, One Night (2014)                         97\n",
      "Unbroken (2014)                                    51\n",
      "Unfinished Business (2015)                         11\n",
      "Unfriended (2015)                                  60\n",
      "Vacation (2015)                                    27\n",
      "Welcome to Me (2015)                               71\n",
      "What We Do in the Shadows (2015)                   96\n",
      "When Marnie Was There (2015)                       89\n",
      "While We're Young (2015)                           83\n",
      "Wild Tales (2014)                                  96\n",
      "Woman in Gold (2015)                               52\n",
      "Length: 146, dtype: int64\n"
     ]
    }
   ],
   "source": [
    "print(sorted_by_index)"
   ]
  },
  {
   "cell_type": "markdown",
   "metadata": {},
   "source": []
  },
  {
   "cell_type": "markdown",
   "metadata": {},
   "source": []
  },
  {
   "cell_type": "code",
   "execution_count": 11,
   "metadata": {
    "collapsed": true
   },
   "outputs": [],
   "source": [
    "sc2 = series_custom.sort_index()\n",
    "sc3 = series_custom.sort_values()"
   ]
  },
  {
   "cell_type": "code",
   "execution_count": 12,
   "metadata": {},
   "outputs": [
    {
     "name": "stdout",
     "output_type": "stream",
     "text": [
      "'71 (2015)                    97\n",
      "5 Flights Up (2015)           52\n",
      "A Little Chaos (2015)         40\n",
      "A Most Violent Year (2014)    90\n",
      "About Elly (2015)             97\n",
      "Aloha (2015)                  19\n",
      "American Sniper (2015)        72\n",
      "American Ultra (2015)         46\n",
      "Amy (2015)                    97\n",
      "Annie (2014)                  27\n",
      "dtype: int64\n"
     ]
    }
   ],
   "source": [
    "print(sc2[0:10])"
   ]
  },
  {
   "cell_type": "code",
   "execution_count": 13,
   "metadata": {},
   "outputs": [
    {
     "name": "stdout",
     "output_type": "stream",
     "text": [
      "Paul Blart: Mall Cop 2 (2015)     5\n",
      "Hitman: Agent 47 (2015)           7\n",
      "Hot Pursuit (2015)                8\n",
      "Fantastic Four (2015)             9\n",
      "Taken 3 (2015)                    9\n",
      "The Boy Next Door (2015)         10\n",
      "The Loft (2015)                  11\n",
      "Unfinished Business (2015)       11\n",
      "Mortdecai (2015)                 12\n",
      "Seventh Son (2015)               12\n",
      "dtype: int64\n"
     ]
    }
   ],
   "source": [
    "print(sc3[0:10])"
   ]
  },
  {
   "cell_type": "markdown",
   "metadata": {},
   "source": []
  },
  {
   "cell_type": "markdown",
   "metadata": {},
   "source": []
  },
  {
   "cell_type": "code",
   "execution_count": 14,
   "metadata": {},
   "outputs": [
    {
     "data": {
      "text/plain": [
       "Avengers: Age of Ultron (2015)                    3.70\n",
       "Cinderella (2015)                                 4.25\n",
       "Ant-Man (2015)                                    4.00\n",
       "Do You Believe? (2015)                            0.90\n",
       "Hot Tub Time Machine 2 (2015)                     0.70\n",
       "The Water Diviner (2015)                          3.15\n",
       "Irrational Man (2015)                             2.10\n",
       "Top Five (2014)                                   4.30\n",
       "Shaun the Sheep Movie (2015)                      4.95\n",
       "Love & Mercy (2015)                               4.45\n",
       "Far From The Madding Crowd (2015)                 4.20\n",
       "Black Sea (2015)                                  4.10\n",
       "Leviathan (2014)                                  4.95\n",
       "Unbroken (2014)                                   2.55\n",
       "The Imitation Game (2014)                         4.50\n",
       "Taken 3 (2015)                                    0.45\n",
       "Ted 2 (2015)                                      2.30\n",
       "Southpaw (2015)                                   2.95\n",
       "Night at the Museum: Secret of the Tomb (2014)    2.50\n",
       "Pixels (2015)                                     0.85\n",
       "McFarland, USA (2015)                             3.95\n",
       "Insidious: Chapter 3 (2015)                       2.95\n",
       "The Man From U.N.C.L.E. (2015)                    3.40\n",
       "Run All Night (2015)                              3.00\n",
       "Trainwreck (2015)                                 4.25\n",
       "Selma (2014)                                      4.95\n",
       "Ex Machina (2015)                                 4.60\n",
       "Still Alice (2015)                                4.40\n",
       "Wild Tales (2014)                                 4.80\n",
       "The End of the Tour (2015)                        4.60\n",
       "                                                  ... \n",
       "Clouds of Sils Maria (2015)                       4.45\n",
       "Testament of Youth (2015)                         4.05\n",
       "Infinitely Polar Bear (2015)                      4.00\n",
       "Phoenix (2015)                                    4.95\n",
       "The Wolfpack (2015)                               4.20\n",
       "The Stanford Prison Experiment (2015)             4.20\n",
       "Tangerine (2015)                                  4.75\n",
       "Magic Mike XXL (2015)                             3.10\n",
       "Home (2015)                                       2.25\n",
       "The Wedding Ringer (2015)                         1.35\n",
       "Woman in Gold (2015)                              2.60\n",
       "The Last Five Years (2015)                        3.00\n",
       "Mission: Impossible â€“ Rogue Nation (2015)       4.60\n",
       "Amy (2015)                                        4.85\n",
       "Jurassic World (2015)                             3.55\n",
       "Minions (2015)                                    2.70\n",
       "Max (2015)                                        1.75\n",
       "Paul Blart: Mall Cop 2 (2015)                     0.25\n",
       "The Longest Ride (2015)                           1.55\n",
       "The Lazarus Effect (2015)                         0.70\n",
       "The Woman In Black 2 Angel of Death (2015)        1.10\n",
       "Danny Collins (2015)                              3.85\n",
       "Spare Parts (2015)                                2.60\n",
       "Serena (2015)                                     0.90\n",
       "Inside Out (2015)                                 4.90\n",
       "Mr. Holmes (2015)                                 4.35\n",
       "'71 (2015)                                        4.85\n",
       "Two Days, One Night (2014)                        4.85\n",
       "Gett: The Trial of Viviane Amsalem (2015)         5.00\n",
       "Kumiko, The Treasure Hunter (2015)                4.35\n",
       "Length: 146, dtype: float64"
      ]
     },
     "execution_count": 14,
     "metadata": {},
     "output_type": "execute_result"
    }
   ],
   "source": [
    "series_normalized = (series_custom/20)\n",
    "series_normalized"
   ]
  },
  {
   "cell_type": "markdown",
   "metadata": {},
   "source": []
  },
  {
   "cell_type": "markdown",
   "metadata": {},
   "source": []
  },
  {
   "cell_type": "code",
   "execution_count": 15,
   "metadata": {},
   "outputs": [
    {
     "data": {
      "text/plain": [
       "Avengers: Age of Ultron (2015)                                            74\n",
       "The Water Diviner (2015)                                                  63\n",
       "Unbroken (2014)                                                           51\n",
       "Southpaw (2015)                                                           59\n",
       "Insidious: Chapter 3 (2015)                                               59\n",
       "The Man From U.N.C.L.E. (2015)                                            68\n",
       "Run All Night (2015)                                                      60\n",
       "5 Flights Up (2015)                                                       52\n",
       "Welcome to Me (2015)                                                      71\n",
       "Saint Laurent (2015)                                                      51\n",
       "Maps to the Stars (2015)                                                  60\n",
       "Pitch Perfect 2 (2015)                                                    67\n",
       "The Age of Adaline (2015)                                                 54\n",
       "The DUFF (2015)                                                           71\n",
       "Ricki and the Flash (2015)                                                64\n",
       "Unfriended (2015)                                                         60\n",
       "American Sniper (2015)                                                    72\n",
       "The Hobbit: The Battle of the Five Armies (2014)                          61\n",
       "Paper Towns (2015)                                                        55\n",
       "Big Eyes (2014)                                                           72\n",
       "Maggie (2015)                                                             54\n",
       "Focus (2015)                                                              57\n",
       "The Second Best Exotic Marigold Hotel (2015)                              62\n",
       "The 100-Year-Old Man Who Climbed Out the Window and Disappeared (2015)    67\n",
       "Escobar: Paradise Lost (2015)                                             52\n",
       "Into the Woods (2014)                                                     71\n",
       "Inherent Vice (2014)                                                      73\n",
       "Magic Mike XXL (2015)                                                     62\n",
       "Woman in Gold (2015)                                                      52\n",
       "The Last Five Years (2015)                                                60\n",
       "Jurassic World (2015)                                                     71\n",
       "Minions (2015)                                                            54\n",
       "Spare Parts (2015)                                                        52\n",
       "dtype: int64"
      ]
     },
     "execution_count": 15,
     "metadata": {},
     "output_type": "execute_result"
    }
   ],
   "source": [
    "criteria_one = series_custom > 50\n",
    "criteria_two = series_custom < 75\n",
    "both_criteria = series_custom[criteria_one & criteria_two]\n",
    "both_criteria"
   ]
  },
  {
   "cell_type": "markdown",
   "metadata": {},
   "source": []
  },
  {
   "cell_type": "markdown",
   "metadata": {},
   "source": []
  },
  {
   "cell_type": "code",
   "execution_count": 16,
   "metadata": {
    "collapsed": true
   },
   "outputs": [],
   "source": [
    "rt_critics = Series(fandango['RottenTomatoes'].values, index=fandango['FILM'])\n",
    "rt_users = Series(fandango['RottenTomatoes_User'].values, index=fandango['FILM'])"
   ]
  },
  {
   "cell_type": "code",
   "execution_count": 18,
   "metadata": {},
   "outputs": [],
   "source": [
    "rt_mean = (rt_critics + rt_users)/2"
   ]
  },
  {
   "cell_type": "code",
   "execution_count": 19,
   "metadata": {},
   "outputs": [
    {
     "name": "stdout",
     "output_type": "stream",
     "text": [
      "FILM\n",
      "Avengers: Age of Ultron (2015)                    80.0\n",
      "Cinderella (2015)                                 82.5\n",
      "Ant-Man (2015)                                    85.0\n",
      "Do You Believe? (2015)                            51.0\n",
      "Hot Tub Time Machine 2 (2015)                     21.0\n",
      "The Water Diviner (2015)                          62.5\n",
      "Irrational Man (2015)                             47.5\n",
      "Top Five (2014)                                   75.0\n",
      "Shaun the Sheep Movie (2015)                      90.5\n",
      "Love & Mercy (2015)                               88.0\n",
      "Far From The Madding Crowd (2015)                 80.5\n",
      "Black Sea (2015)                                  71.0\n",
      "Leviathan (2014)                                  89.0\n",
      "Unbroken (2014)                                   60.5\n",
      "The Imitation Game (2014)                         91.0\n",
      "Taken 3 (2015)                                    27.5\n",
      "Ted 2 (2015)                                      52.0\n",
      "Southpaw (2015)                                   69.5\n",
      "Night at the Museum: Secret of the Tomb (2014)    54.0\n",
      "Pixels (2015)                                     35.5\n",
      "McFarland, USA (2015)                             84.0\n",
      "Insidious: Chapter 3 (2015)                       57.5\n",
      "The Man From U.N.C.L.E. (2015)                    74.0\n",
      "Run All Night (2015)                              59.5\n",
      "Trainwreck (2015)                                 79.5\n",
      "Selma (2014)                                      92.5\n",
      "Ex Machina (2015)                                 89.0\n",
      "Still Alice (2015)                                86.5\n",
      "Wild Tales (2014)                                 94.0\n",
      "The End of the Tour (2015)                        90.5\n",
      "                                                  ... \n",
      "Clouds of Sils Maria (2015)                       78.0\n",
      "Testament of Youth (2015)                         80.0\n",
      "Infinitely Polar Bear (2015)                      78.0\n",
      "Phoenix (2015)                                    90.0\n",
      "The Wolfpack (2015)                               78.5\n",
      "The Stanford Prison Experiment (2015)             85.5\n",
      "Tangerine (2015)                                  90.5\n",
      "Magic Mike XXL (2015)                             63.0\n",
      "Home (2015)                                       55.0\n",
      "The Wedding Ringer (2015)                         46.5\n",
      "Woman in Gold (2015)                              66.5\n",
      "The Last Five Years (2015)                        60.0\n",
      "Mission: Impossible â€“ Rogue Nation (2015)       91.0\n",
      "Amy (2015)                                        94.0\n",
      "Jurassic World (2015)                             76.0\n",
      "Minions (2015)                                    53.0\n",
      "Max (2015)                                        54.0\n",
      "Paul Blart: Mall Cop 2 (2015)                     20.5\n",
      "The Longest Ride (2015)                           52.0\n",
      "The Lazarus Effect (2015)                         18.5\n",
      "The Woman In Black 2 Angel of Death (2015)        23.5\n",
      "Danny Collins (2015)                              76.0\n",
      "Spare Parts (2015)                                67.5\n",
      "Serena (2015)                                     21.5\n",
      "Inside Out (2015)                                 94.0\n",
      "Mr. Holmes (2015)                                 82.5\n",
      "'71 (2015)                                        89.5\n",
      "Two Days, One Night (2014)                        87.5\n",
      "Gett: The Trial of Viviane Amsalem (2015)         90.5\n",
      "Kumiko, The Treasure Hunter (2015)                75.0\n",
      "Length: 146, dtype: float64\n"
     ]
    }
   ],
   "source": [
    "print(rt_mean)"
   ]
  },
  {
   "cell_type": "code",
   "execution_count": null,
   "metadata": {
    "collapsed": true
   },
   "outputs": [],
   "source": []
  }
 ],
 "metadata": {
  "kernelspec": {
   "display_name": "Python 3",
   "language": "python",
   "name": "python3"
  },
  "language_info": {
   "codemirror_mode": {
    "name": "ipython",
    "version": 3
   },
   "file_extension": ".py",
   "mimetype": "text/x-python",
   "name": "python",
   "nbconvert_exporter": "python",
   "pygments_lexer": "ipython3",
   "version": "3.8.5"
  }
 },
 "nbformat": 4,
 "nbformat_minor": 2
}
